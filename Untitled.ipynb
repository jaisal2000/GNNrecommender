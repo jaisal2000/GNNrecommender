{
 "cells": [
  {
   "cell_type": "code",
   "execution_count": 1,
   "id": "d593df68-311e-479a-975d-14a49c46878a",
   "metadata": {},
   "outputs": [],
   "source": [
    "# Import required modules\n",
    "import random\n",
    "from tqdm.notebook import tqdm\n",
    "import pandas as pd\n",
    "import numpy as np\n",
    "import matplotlib.pyplot as plt\n",
    "\n",
    "from sklearn.model_selection import train_test_split\n",
    "from sklearn import model_selection, metrics, preprocessing\n",
    "\n",
    "import copy\n",
    "import torch\n",
    "from torch import nn, optim, Tensor\n",
    "from torch_sparse import SparseTensor, matmul\n",
    "from torch_geometric.utils import degree, structured_negative_sampling\n",
    "from torch_geometric.data import download_url, extract_zip\n",
    "from torch_geometric.nn.conv import MessagePassing\n",
    "from torch_geometric.typing import Adj\n"
   ]
  },
  {
   "cell_type": "code",
   "execution_count": 3,
   "id": "e36d5bf0-cbf0-4c63-bf20-295691c35892",
   "metadata": {},
   "outputs": [
    {
     "name": "stdout",
     "output_type": "stream",
     "text": [
      "   userId  movieId  rating  timestamp\n",
      "0       1        1     4.0  964982703\n",
      "1       1        3     4.0  964981247\n",
      "2       1        6     4.0  964982224\n",
      "3       1       47     5.0  964983815\n",
      "4       1       50     5.0  964982931\n",
      "Number of unique movies: 9724\n",
      "Number of unique users: 610\n"
     ]
    },
    {
     "name": "stderr",
     "output_type": "stream",
     "text": [
      "Extracting ml-latest-small.zip\n"
     ]
    }
   ],
   "source": [
    "# Download the dataset\n",
    "import os\n",
    "from torch_geometric.data import download_url, extract_zip\n",
    "\n",
    "# Define dataset URL and file paths\n",
    "url = \"https://files.grouplens.org/datasets/movielens/ml-latest-small.zip\"\n",
    "dataset_path = \"ml-latest-small.zip\"\n",
    "extract_path = \".\"\n",
    "\n",
    "# Download and extract dataset\n",
    "if not os.path.exists(dataset_path):\n",
    "    download_url(url, extract_path)\n",
    "extract_zip(dataset_path, extract_path)\n",
    "\n",
    "# Define file paths\n",
    "movie_path = \"./ml-latest-small/movies.csv\"\n",
    "rating_path = \"./ml-latest-small/ratings.csv\"\n",
    "user_path = \"./ml-latest-small/users.csv\"\n",
    "\n",
    "# Load dataset\n",
    "import pandas as pd\n",
    "\n",
    "rating_df = pd.read_csv(rating_path)\n",
    "\n",
    "# Display first few rows\n",
    "print(rating_df.head())\n",
    "\n",
    "# Display unique movie and user counts\n",
    "print(f\"Number of unique movies: {len(rating_df['movieId'].unique())}\")\n",
    "print(f\"Number of unique users: {len(rating_df['userId'].unique())}\")\n",
    "\n",
    "\n"
   ]
  },
  {
   "cell_type": "code",
   "execution_count": 4,
   "id": "80f52191-e7c5-4e5d-a492-2be59620a0bf",
   "metadata": {},
   "outputs": [
    {
     "data": {
      "text/html": [
       "<div>\n",
       "<style scoped>\n",
       "    .dataframe tbody tr th:only-of-type {\n",
       "        vertical-align: middle;\n",
       "    }\n",
       "\n",
       "    .dataframe tbody tr th {\n",
       "        vertical-align: top;\n",
       "    }\n",
       "\n",
       "    .dataframe thead th {\n",
       "        text-align: right;\n",
       "    }\n",
       "</style>\n",
       "<table border=\"1\" class=\"dataframe\">\n",
       "  <thead>\n",
       "    <tr style=\"text-align: right;\">\n",
       "      <th></th>\n",
       "      <th>userId</th>\n",
       "      <th>movieId</th>\n",
       "      <th>rating</th>\n",
       "      <th>timestamp</th>\n",
       "    </tr>\n",
       "  </thead>\n",
       "  <tbody>\n",
       "    <tr>\n",
       "      <th>count</th>\n",
       "      <td>100836.000000</td>\n",
       "      <td>100836.000000</td>\n",
       "      <td>100836.000000</td>\n",
       "      <td>1.008360e+05</td>\n",
       "    </tr>\n",
       "    <tr>\n",
       "      <th>mean</th>\n",
       "      <td>326.127564</td>\n",
       "      <td>19435.295718</td>\n",
       "      <td>3.501557</td>\n",
       "      <td>1.205946e+09</td>\n",
       "    </tr>\n",
       "    <tr>\n",
       "      <th>std</th>\n",
       "      <td>182.618491</td>\n",
       "      <td>35530.987199</td>\n",
       "      <td>1.042529</td>\n",
       "      <td>2.162610e+08</td>\n",
       "    </tr>\n",
       "    <tr>\n",
       "      <th>min</th>\n",
       "      <td>1.000000</td>\n",
       "      <td>1.000000</td>\n",
       "      <td>0.500000</td>\n",
       "      <td>8.281246e+08</td>\n",
       "    </tr>\n",
       "    <tr>\n",
       "      <th>25%</th>\n",
       "      <td>177.000000</td>\n",
       "      <td>1199.000000</td>\n",
       "      <td>3.000000</td>\n",
       "      <td>1.019124e+09</td>\n",
       "    </tr>\n",
       "    <tr>\n",
       "      <th>50%</th>\n",
       "      <td>325.000000</td>\n",
       "      <td>2991.000000</td>\n",
       "      <td>3.500000</td>\n",
       "      <td>1.186087e+09</td>\n",
       "    </tr>\n",
       "    <tr>\n",
       "      <th>75%</th>\n",
       "      <td>477.000000</td>\n",
       "      <td>8122.000000</td>\n",
       "      <td>4.000000</td>\n",
       "      <td>1.435994e+09</td>\n",
       "    </tr>\n",
       "    <tr>\n",
       "      <th>max</th>\n",
       "      <td>610.000000</td>\n",
       "      <td>193609.000000</td>\n",
       "      <td>5.000000</td>\n",
       "      <td>1.537799e+09</td>\n",
       "    </tr>\n",
       "  </tbody>\n",
       "</table>\n",
       "</div>"
      ],
      "text/plain": [
       "              userId        movieId         rating     timestamp\n",
       "count  100836.000000  100836.000000  100836.000000  1.008360e+05\n",
       "mean      326.127564   19435.295718       3.501557  1.205946e+09\n",
       "std       182.618491   35530.987199       1.042529  2.162610e+08\n",
       "min         1.000000       1.000000       0.500000  8.281246e+08\n",
       "25%       177.000000    1199.000000       3.000000  1.019124e+09\n",
       "50%       325.000000    2991.000000       3.500000  1.186087e+09\n",
       "75%       477.000000    8122.000000       4.000000  1.435994e+09\n",
       "max       610.000000  193609.000000       5.000000  1.537799e+09"
      ]
     },
     "execution_count": 4,
     "metadata": {},
     "output_type": "execute_result"
    }
   ],
   "source": [
    "# Display summary statistics\n",
    "rating_df.describe()"
   ]
  },
  {
   "cell_type": "code",
   "execution_count": 5,
   "id": "1bc2945a-e16c-41db-ab79-773a6526f538",
   "metadata": {},
   "outputs": [],
   "source": [
    "lbl_user = preprocessing.LabelEncoder()\n",
    "lbl_movie = preprocessing.LabelEncoder()\n",
    "\n",
    "rating_df.userId = lbl_user.fit_transform(rating_df.userId.values)\n",
    "rating_df.movieId = lbl_movie.fit_transform(rating_df.movieId.values)"
   ]
  },
  {
   "cell_type": "code",
   "execution_count": 6,
   "id": "940bef4d-055c-4566-9aa6-43defbc1df13",
   "metadata": {},
   "outputs": [
    {
     "name": "stdout",
     "output_type": "stream",
     "text": [
      "609\n",
      "9723\n"
     ]
    }
   ],
   "source": [
    "print(rating_df.userId.max())\n",
    "print(rating_df.movieId.max())"
   ]
  },
  {
   "cell_type": "code",
   "execution_count": 7,
   "id": "ad7e4f5a-91f6-44ec-a172-d2d18de1d499",
   "metadata": {},
   "outputs": [
    {
     "data": {
      "text/plain": [
       "rating\n",
       "4.0    26818\n",
       "3.0    20047\n",
       "5.0    13211\n",
       "3.5    13136\n",
       "4.5     8551\n",
       "2.0     7551\n",
       "2.5     5550\n",
       "1.0     2811\n",
       "1.5     1791\n",
       "0.5     1370\n",
       "Name: count, dtype: int64"
      ]
     },
     "execution_count": 7,
     "metadata": {},
     "output_type": "execute_result"
    }
   ],
   "source": [
    "rating_df.rating.value_counts()"
   ]
  },
  {
   "cell_type": "code",
   "execution_count": 8,
   "id": "0a8d079c-3232-48a1-a68a-5bdaed9cf7a4",
   "metadata": {},
   "outputs": [],
   "source": [
    "\n",
    "\n",
    "def load_edge_csv(df, src_index_col, dst_index_col, link_index_col, rating_threshold=3):\n",
    "    \"\"\"\n",
    "    Loads a CSV containing edges between users and items.\n",
    "\n",
    "    Args:\n",
    "        df (pd.DataFrame): DataFrame containing user-item interactions.\n",
    "        src_index_col (str): Column name for users.\n",
    "        dst_index_col (str): Column name for items (movies).\n",
    "        link_index_col (str): Column name for user-item interaction (ratings).\n",
    "        rating_threshold (int, optional): Threshold to determine positive edges. Defaults to 3.\n",
    "\n",
    "    Returns:\n",
    "        list: Edge index (2xN matrix) containing the node IDs of N user-item edges.\n",
    "    \"\"\"\n",
    "    \n",
    "    print(\"Constructing COO format edge_index from input rating events...\")\n",
    "\n",
    "    # Get user IDs from rating events in order of occurrence\n",
    "    src = df[src_index_col].tolist()\n",
    "    \n",
    "    # Get movie IDs from rating events in order of occurrence\n",
    "    dst = df[dst_index_col].tolist()\n",
    "\n",
    "    # Apply rating threshold to filter interactions\n",
    "    edge_attr = torch.from_numpy(df[link_index_col].values).view(-1, 1).to(torch.long)\n",
    "    \n",
    "    edge_index = [[], []]  # COO format edge index (two lists for source and destination nodes)\n",
    "\n",
    "    for i in range(edge_attr.shape[0]):\n",
    "        if edge_attr[i] >= rating_threshold:\n",
    "            edge_index[0].append(src[i])\n",
    "            edge_index[1].append(dst[i])\n",
    "\n",
    "    return edge_index\n"
   ]
  },
  {
   "cell_type": "code",
   "execution_count": 12,
   "id": "de89d585-8952-4e79-a7c6-385dc347b8a8",
   "metadata": {},
   "outputs": [
    {
     "name": "stdout",
     "output_type": "stream",
     "text": [
      "Constructing COO format edge_index from input rating events...\n",
      "2 x 48580\n"
     ]
    }
   ],
   "source": [
    "\n",
    "edge_index= load_edge_csv(\n",
    "rating_df,\n",
    "src_index_col='userId', dst_index_col='movieId', link_index_col=\"rating\", rating_threshold=3.5,\n",
    ")\n",
    "print(f\"{len(edge_index)} x {len(edge_index[0])}\")"
   ]
  },
  {
   "cell_type": "code",
   "execution_count": 14,
   "id": "565f1ab8-38a3-4e44-b169-194667c6a785",
   "metadata": {},
   "outputs": [
    {
     "name": "stdout",
     "output_type": "stream",
     "text": [
      "tensor([[   0,    0,    0,  ...,  609,  609,  609],\n",
      "        [   0,    2,    5,  ..., 9443, 9444, 9445]])\n",
      "torch.Size([2, 48580])\n"
     ]
    }
   ],
   "source": [
    "#Convert to Tensor\n",
    "edge_index = torch.LongTensor(edge_index)\n",
    "print(edge_index)\n",
    "print(edge_index.size())"
   ]
  },
  {
   "cell_type": "code",
   "execution_count": null,
   "id": "1640119e-ac2b-4189-be40-1f68d1bf3deb",
   "metadata": {},
   "outputs": [],
   "source": []
  }
 ],
 "metadata": {
  "kernelspec": {
   "display_name": "Python 3 (ipykernel)",
   "language": "python",
   "name": "python3"
  },
  "language_info": {
   "codemirror_mode": {
    "name": "ipython",
    "version": 3
   },
   "file_extension": ".py",
   "mimetype": "text/x-python",
   "name": "python",
   "nbconvert_exporter": "python",
   "pygments_lexer": "ipython3",
   "version": "3.8.20"
  }
 },
 "nbformat": 4,
 "nbformat_minor": 5
}
